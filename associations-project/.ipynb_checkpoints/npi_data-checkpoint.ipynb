{
 "cells": [
  {
   "cell_type": "markdown",
   "id": "a0f3526a",
   "metadata": {},
   "source": [
    "# Examining Relationships Between Categorical Variables"
   ]
  },
  {
   "cell_type": "code",
   "execution_count": 46,
   "id": "c37eb5fb",
   "metadata": {},
   "outputs": [
    {
     "data": {
      "text/html": [
       "<div>\n",
       "<style scoped>\n",
       "    .dataframe tbody tr th:only-of-type {\n",
       "        vertical-align: middle;\n",
       "    }\n",
       "\n",
       "    .dataframe tbody tr th {\n",
       "        vertical-align: top;\n",
       "    }\n",
       "\n",
       "    .dataframe thead th {\n",
       "        text-align: right;\n",
       "    }\n",
       "</style>\n",
       "<table border=\"1\" class=\"dataframe\">\n",
       "  <thead>\n",
       "    <tr style=\"text-align: right;\">\n",
       "      <th></th>\n",
       "      <th>score</th>\n",
       "      <th>Q1</th>\n",
       "      <th>Q2</th>\n",
       "      <th>Q3</th>\n",
       "      <th>Q4</th>\n",
       "      <th>Q5</th>\n",
       "      <th>Q6</th>\n",
       "      <th>Q7</th>\n",
       "      <th>Q8</th>\n",
       "      <th>Q9</th>\n",
       "      <th>...</th>\n",
       "      <th>Q34</th>\n",
       "      <th>Q35</th>\n",
       "      <th>Q36</th>\n",
       "      <th>Q37</th>\n",
       "      <th>Q38</th>\n",
       "      <th>Q39</th>\n",
       "      <th>Q40</th>\n",
       "      <th>elapse</th>\n",
       "      <th>gender</th>\n",
       "      <th>age</th>\n",
       "    </tr>\n",
       "  </thead>\n",
       "  <tbody>\n",
       "    <tr>\n",
       "      <th>0</th>\n",
       "      <td>18</td>\n",
       "      <td>2</td>\n",
       "      <td>2</td>\n",
       "      <td>2</td>\n",
       "      <td>2</td>\n",
       "      <td>1</td>\n",
       "      <td>2</td>\n",
       "      <td>1</td>\n",
       "      <td>2</td>\n",
       "      <td>2</td>\n",
       "      <td>...</td>\n",
       "      <td>1</td>\n",
       "      <td>1</td>\n",
       "      <td>2</td>\n",
       "      <td>2</td>\n",
       "      <td>2</td>\n",
       "      <td>1</td>\n",
       "      <td>2</td>\n",
       "      <td>211</td>\n",
       "      <td>1</td>\n",
       "      <td>50</td>\n",
       "    </tr>\n",
       "    <tr>\n",
       "      <th>1</th>\n",
       "      <td>6</td>\n",
       "      <td>2</td>\n",
       "      <td>2</td>\n",
       "      <td>2</td>\n",
       "      <td>1</td>\n",
       "      <td>2</td>\n",
       "      <td>2</td>\n",
       "      <td>1</td>\n",
       "      <td>2</td>\n",
       "      <td>1</td>\n",
       "      <td>...</td>\n",
       "      <td>2</td>\n",
       "      <td>1</td>\n",
       "      <td>2</td>\n",
       "      <td>2</td>\n",
       "      <td>2</td>\n",
       "      <td>2</td>\n",
       "      <td>1</td>\n",
       "      <td>149</td>\n",
       "      <td>1</td>\n",
       "      <td>40</td>\n",
       "    </tr>\n",
       "    <tr>\n",
       "      <th>2</th>\n",
       "      <td>27</td>\n",
       "      <td>1</td>\n",
       "      <td>2</td>\n",
       "      <td>2</td>\n",
       "      <td>1</td>\n",
       "      <td>2</td>\n",
       "      <td>1</td>\n",
       "      <td>2</td>\n",
       "      <td>1</td>\n",
       "      <td>2</td>\n",
       "      <td>...</td>\n",
       "      <td>1</td>\n",
       "      <td>2</td>\n",
       "      <td>1</td>\n",
       "      <td>1</td>\n",
       "      <td>2</td>\n",
       "      <td>1</td>\n",
       "      <td>2</td>\n",
       "      <td>168</td>\n",
       "      <td>1</td>\n",
       "      <td>28</td>\n",
       "    </tr>\n",
       "    <tr>\n",
       "      <th>3</th>\n",
       "      <td>29</td>\n",
       "      <td>1</td>\n",
       "      <td>1</td>\n",
       "      <td>2</td>\n",
       "      <td>2</td>\n",
       "      <td>2</td>\n",
       "      <td>1</td>\n",
       "      <td>2</td>\n",
       "      <td>1</td>\n",
       "      <td>1</td>\n",
       "      <td>...</td>\n",
       "      <td>1</td>\n",
       "      <td>2</td>\n",
       "      <td>1</td>\n",
       "      <td>2</td>\n",
       "      <td>2</td>\n",
       "      <td>1</td>\n",
       "      <td>1</td>\n",
       "      <td>230</td>\n",
       "      <td>1</td>\n",
       "      <td>37</td>\n",
       "    </tr>\n",
       "    <tr>\n",
       "      <th>4</th>\n",
       "      <td>6</td>\n",
       "      <td>1</td>\n",
       "      <td>2</td>\n",
       "      <td>1</td>\n",
       "      <td>1</td>\n",
       "      <td>1</td>\n",
       "      <td>2</td>\n",
       "      <td>1</td>\n",
       "      <td>2</td>\n",
       "      <td>1</td>\n",
       "      <td>...</td>\n",
       "      <td>2</td>\n",
       "      <td>1</td>\n",
       "      <td>2</td>\n",
       "      <td>2</td>\n",
       "      <td>2</td>\n",
       "      <td>0</td>\n",
       "      <td>1</td>\n",
       "      <td>389</td>\n",
       "      <td>1</td>\n",
       "      <td>50</td>\n",
       "    </tr>\n",
       "  </tbody>\n",
       "</table>\n",
       "<p>5 rows × 44 columns</p>\n",
       "</div>"
      ],
      "text/plain": [
       "   score  Q1  Q2  Q3  Q4  Q5  Q6  Q7  Q8  Q9  ...  Q34  Q35  Q36  Q37  Q38  \\\n",
       "0     18   2   2   2   2   1   2   1   2   2  ...    1    1    2    2    2   \n",
       "1      6   2   2   2   1   2   2   1   2   1  ...    2    1    2    2    2   \n",
       "2     27   1   2   2   1   2   1   2   1   2  ...    1    2    1    1    2   \n",
       "3     29   1   1   2   2   2   1   2   1   1  ...    1    2    1    2    2   \n",
       "4      6   1   2   1   1   1   2   1   2   1  ...    2    1    2    2    2   \n",
       "\n",
       "   Q39  Q40  elapse  gender  age  \n",
       "0    1    2     211       1   50  \n",
       "1    2    1     149       1   40  \n",
       "2    1    2     168       1   28  \n",
       "3    1    1     230       1   37  \n",
       "4    0    1     389       1   50  \n",
       "\n",
       "[5 rows x 44 columns]"
      ]
     },
     "execution_count": 46,
     "metadata": {},
     "output_type": "execute_result"
    }
   ],
   "source": [
    "import pandas as pd\n",
    "import numpy as np\n",
    "import matplotlib.pyplot as plt\n",
    "from scipy.stats import pearsonr\n",
    "from scipy.stats import chi2_contingency\n",
    "\n",
    "df = pd.read_csv('data.csv')\n",
    "df.head()"
   ]
  },
  {
   "cell_type": "markdown",
   "id": "3517d67f",
   "metadata": {},
   "source": [
    "It would be helpful to look through the documentation of this dataset and narrow the number of questions to examine.\n",
    "\n",
    "Q1: Influencing people (1 = yes, 2 = no)\\\n",
    "Q2: Modesty (1 = no, 2 = yes)\\\n",
    "Q7: Blend in (1 = yes, 2 = no)\\\n",
    "Q12: Authority (1 = yes, 2 = no)"
   ]
  },
  {
   "cell_type": "code",
   "execution_count": 47,
   "id": "4993a836",
   "metadata": {},
   "outputs": [
    {
     "data": {
      "text/plain": [
       "Index(['score', 'Q1', 'Q2', 'Q3', 'Q4', 'Q5', 'Q6', 'Q7', 'Q8', 'Q9', 'Q10',\n",
       "       'Q11', 'Q12', 'Q13', 'Q14', 'Q15', 'Q16', 'Q17', 'Q18', 'Q19', 'Q20',\n",
       "       'Q21', 'Q22', 'Q23', 'Q24', 'Q25', 'Q26', 'Q27', 'Q28', 'Q29', 'Q30',\n",
       "       'Q31', 'Q32', 'Q33', 'Q34', 'Q35', 'Q36', 'Q37', 'Q38', 'Q39', 'Q40',\n",
       "       'elapse', 'gender', 'age'],\n",
       "      dtype='object')"
      ]
     },
     "execution_count": 47,
     "metadata": {},
     "output_type": "execute_result"
    }
   ],
   "source": [
    "df.columns"
   ]
  },
  {
   "cell_type": "code",
   "execution_count": 48,
   "id": "e85e12d8",
   "metadata": {},
   "outputs": [
    {
     "data": {
      "text/html": [
       "<div>\n",
       "<style scoped>\n",
       "    .dataframe tbody tr th:only-of-type {\n",
       "        vertical-align: middle;\n",
       "    }\n",
       "\n",
       "    .dataframe tbody tr th {\n",
       "        vertical-align: top;\n",
       "    }\n",
       "\n",
       "    .dataframe thead th {\n",
       "        text-align: right;\n",
       "    }\n",
       "</style>\n",
       "<table border=\"1\" class=\"dataframe\">\n",
       "  <thead>\n",
       "    <tr style=\"text-align: right;\">\n",
       "      <th></th>\n",
       "      <th>Q1</th>\n",
       "      <th>Q2</th>\n",
       "      <th>Q7</th>\n",
       "      <th>Q12</th>\n",
       "    </tr>\n",
       "  </thead>\n",
       "  <tbody>\n",
       "    <tr>\n",
       "      <th>0</th>\n",
       "      <td>2</td>\n",
       "      <td>2</td>\n",
       "      <td>1</td>\n",
       "      <td>1</td>\n",
       "    </tr>\n",
       "    <tr>\n",
       "      <th>1</th>\n",
       "      <td>2</td>\n",
       "      <td>2</td>\n",
       "      <td>1</td>\n",
       "      <td>2</td>\n",
       "    </tr>\n",
       "    <tr>\n",
       "      <th>2</th>\n",
       "      <td>1</td>\n",
       "      <td>2</td>\n",
       "      <td>2</td>\n",
       "      <td>1</td>\n",
       "    </tr>\n",
       "    <tr>\n",
       "      <th>3</th>\n",
       "      <td>1</td>\n",
       "      <td>1</td>\n",
       "      <td>2</td>\n",
       "      <td>1</td>\n",
       "    </tr>\n",
       "    <tr>\n",
       "      <th>4</th>\n",
       "      <td>1</td>\n",
       "      <td>2</td>\n",
       "      <td>1</td>\n",
       "      <td>2</td>\n",
       "    </tr>\n",
       "  </tbody>\n",
       "</table>\n",
       "</div>"
      ],
      "text/plain": [
       "   Q1  Q2  Q7  Q12\n",
       "0   2   2   1    1\n",
       "1   2   2   1    2\n",
       "2   1   2   2    1\n",
       "3   1   1   2    1\n",
       "4   1   2   1    2"
      ]
     },
     "execution_count": 48,
     "metadata": {},
     "output_type": "execute_result"
    }
   ],
   "source": [
    "npi = df[['Q1', 'Q2', 'Q7', 'Q12']]\n",
    "npi.head()"
   ]
  },
  {
   "cell_type": "code",
   "execution_count": 49,
   "id": "8c308dfc",
   "metadata": {},
   "outputs": [
    {
     "data": {
      "text/html": [
       "<div>\n",
       "<style scoped>\n",
       "    .dataframe tbody tr th:only-of-type {\n",
       "        vertical-align: middle;\n",
       "    }\n",
       "\n",
       "    .dataframe tbody tr th {\n",
       "        vertical-align: top;\n",
       "    }\n",
       "\n",
       "    .dataframe thead th {\n",
       "        text-align: right;\n",
       "    }\n",
       "</style>\n",
       "<table border=\"1\" class=\"dataframe\">\n",
       "  <thead>\n",
       "    <tr style=\"text-align: right;\">\n",
       "      <th></th>\n",
       "      <th>influence</th>\n",
       "      <th>modesty</th>\n",
       "      <th>blend_in</th>\n",
       "      <th>authority</th>\n",
       "    </tr>\n",
       "  </thead>\n",
       "  <tbody>\n",
       "    <tr>\n",
       "      <th>0</th>\n",
       "      <td>2</td>\n",
       "      <td>2</td>\n",
       "      <td>1</td>\n",
       "      <td>1</td>\n",
       "    </tr>\n",
       "    <tr>\n",
       "      <th>1</th>\n",
       "      <td>2</td>\n",
       "      <td>2</td>\n",
       "      <td>1</td>\n",
       "      <td>2</td>\n",
       "    </tr>\n",
       "    <tr>\n",
       "      <th>2</th>\n",
       "      <td>1</td>\n",
       "      <td>2</td>\n",
       "      <td>2</td>\n",
       "      <td>1</td>\n",
       "    </tr>\n",
       "    <tr>\n",
       "      <th>3</th>\n",
       "      <td>1</td>\n",
       "      <td>1</td>\n",
       "      <td>2</td>\n",
       "      <td>1</td>\n",
       "    </tr>\n",
       "    <tr>\n",
       "      <th>4</th>\n",
       "      <td>1</td>\n",
       "      <td>2</td>\n",
       "      <td>1</td>\n",
       "      <td>2</td>\n",
       "    </tr>\n",
       "  </tbody>\n",
       "</table>\n",
       "</div>"
      ],
      "text/plain": [
       "   influence  modesty  blend_in  authority\n",
       "0          2        2         1          1\n",
       "1          2        2         1          2\n",
       "2          1        2         2          1\n",
       "3          1        1         2          1\n",
       "4          1        2         1          2"
      ]
     },
     "execution_count": 49,
     "metadata": {},
     "output_type": "execute_result"
    }
   ],
   "source": [
    "column_mapper = {'Q1': 'influence', 'Q2': 'modesty', 'Q7': 'blend_in', 'Q12': 'authority'}\n",
    "npi = npi.rename(mapper = column_mapper, axis = 1)\n",
    "npi.head()"
   ]
  },
  {
   "cell_type": "code",
   "execution_count": 50,
   "id": "b6eb0fc7",
   "metadata": {},
   "outputs": [
    {
     "name": "stdout",
     "output_type": "stream",
     "text": [
      "<class 'pandas.core.frame.DataFrame'>\n",
      "RangeIndex: 11243 entries, 0 to 11242\n",
      "Data columns (total 4 columns):\n",
      " #   Column     Non-Null Count  Dtype\n",
      "---  ------     --------------  -----\n",
      " 0   influence  11243 non-null  int64\n",
      " 1   modesty    11243 non-null  int64\n",
      " 2   blend_in   11243 non-null  int64\n",
      " 3   authority  11243 non-null  int64\n",
      "dtypes: int64(4)\n",
      "memory usage: 351.5 KB\n"
     ]
    }
   ],
   "source": [
    "npi.info()"
   ]
  },
  {
   "cell_type": "code",
   "execution_count": 51,
   "id": "27677670",
   "metadata": {},
   "outputs": [
    {
     "name": "stdout",
     "output_type": "stream",
     "text": [
      "<class 'pandas.core.frame.DataFrame'>\n",
      "RangeIndex: 11243 entries, 0 to 11242\n",
      "Data columns (total 4 columns):\n",
      " #   Column     Non-Null Count  Dtype \n",
      "---  ------     --------------  ----- \n",
      " 0   influence  11243 non-null  object\n",
      " 1   modesty    11243 non-null  object\n",
      " 2   blend_in   11243 non-null  object\n",
      " 3   authority  11243 non-null  object\n",
      "dtypes: object(4)\n",
      "memory usage: 351.5+ KB\n"
     ]
    }
   ],
   "source": [
    "npi = npi.astype('str')\n",
    "npi.info()"
   ]
  },
  {
   "cell_type": "code",
   "execution_count": 52,
   "id": "8438f285",
   "metadata": {},
   "outputs": [
    {
     "data": {
      "text/html": [
       "<div>\n",
       "<style scoped>\n",
       "    .dataframe tbody tr th:only-of-type {\n",
       "        vertical-align: middle;\n",
       "    }\n",
       "\n",
       "    .dataframe tbody tr th {\n",
       "        vertical-align: top;\n",
       "    }\n",
       "\n",
       "    .dataframe thead th {\n",
       "        text-align: right;\n",
       "    }\n",
       "</style>\n",
       "<table border=\"1\" class=\"dataframe\">\n",
       "  <thead>\n",
       "    <tr style=\"text-align: right;\">\n",
       "      <th></th>\n",
       "      <th>influence</th>\n",
       "      <th>modesty</th>\n",
       "      <th>blend_in</th>\n",
       "      <th>authority</th>\n",
       "    </tr>\n",
       "  </thead>\n",
       "  <tbody>\n",
       "    <tr>\n",
       "      <th>0</th>\n",
       "      <td>no</td>\n",
       "      <td>yes</td>\n",
       "      <td>yes</td>\n",
       "      <td>yes</td>\n",
       "    </tr>\n",
       "    <tr>\n",
       "      <th>1</th>\n",
       "      <td>no</td>\n",
       "      <td>yes</td>\n",
       "      <td>yes</td>\n",
       "      <td>no</td>\n",
       "    </tr>\n",
       "    <tr>\n",
       "      <th>2</th>\n",
       "      <td>yes</td>\n",
       "      <td>yes</td>\n",
       "      <td>no</td>\n",
       "      <td>yes</td>\n",
       "    </tr>\n",
       "    <tr>\n",
       "      <th>3</th>\n",
       "      <td>yes</td>\n",
       "      <td>no</td>\n",
       "      <td>no</td>\n",
       "      <td>yes</td>\n",
       "    </tr>\n",
       "    <tr>\n",
       "      <th>4</th>\n",
       "      <td>yes</td>\n",
       "      <td>yes</td>\n",
       "      <td>yes</td>\n",
       "      <td>no</td>\n",
       "    </tr>\n",
       "  </tbody>\n",
       "</table>\n",
       "</div>"
      ],
      "text/plain": [
       "  influence modesty blend_in authority\n",
       "0        no     yes      yes       yes\n",
       "1        no     yes      yes        no\n",
       "2       yes     yes       no       yes\n",
       "3       yes      no       no       yes\n",
       "4       yes     yes      yes        no"
      ]
     },
     "execution_count": 52,
     "metadata": {},
     "output_type": "execute_result"
    }
   ],
   "source": [
    "npi['influence'] = npi['influence'].replace({'1': 'yes', '2': 'no'})\n",
    "npi['modesty'] = npi['modesty'].replace({'1': 'no', '2': 'yes'})\n",
    "npi['blend_in'] = npi['blend_in'].replace({'1': 'yes', '2': 'no'})\n",
    "npi['authority'] = npi['authority'].replace({'1': 'yes', '2': 'no'})\n",
    "npi.head()"
   ]
  },
  {
   "cell_type": "code",
   "execution_count": 53,
   "id": "a60f310c",
   "metadata": {},
   "outputs": [
    {
     "data": {
      "text/plain": [
       "yes    6872\n",
       "no     4354\n",
       "0        17\n",
       "Name: influence, dtype: int64"
      ]
     },
     "execution_count": 53,
     "metadata": {},
     "output_type": "execute_result"
    }
   ],
   "source": [
    "npi.influence.value_counts()"
   ]
  },
  {
   "cell_type": "code",
   "execution_count": 54,
   "id": "1950621c",
   "metadata": {},
   "outputs": [],
   "source": [
    "npi = npi[npi['influence'] != '0']\n",
    "npi = npi[npi['modesty'] != '0']\n",
    "npi = npi[npi['blend_in'] != '0']\n",
    "npi = npi[npi['authority'] != '0']"
   ]
  },
  {
   "cell_type": "markdown",
   "id": "26cdd0a3",
   "metadata": {},
   "source": [
    "### Let's see if 'Modesty' and 'Blending In' are associated."
   ]
  },
  {
   "cell_type": "code",
   "execution_count": 55,
   "id": "0de53fdb",
   "metadata": {},
   "outputs": [
    {
     "name": "stdout",
     "output_type": "stream",
     "text": [
      "blend_in    no   yes\n",
      "modesty             \n",
      "no        1301  1065\n",
      "yes       2107  6672\n"
     ]
    }
   ],
   "source": [
    "# Observed contingency table\n",
    "\n",
    "modesty_blend_freq = pd.crosstab(npi['modesty'], npi['blend_in'])\n",
    "print(modesty_blend_freq)"
   ]
  },
  {
   "cell_type": "code",
   "execution_count": 56,
   "id": "6b12108b",
   "metadata": {},
   "outputs": [
    {
     "name": "stdout",
     "output_type": "stream",
     "text": [
      "blend_in        no       yes\n",
      "modesty                     \n",
      "no        0.116734  0.095559\n",
      "yes       0.189053  0.598654\n"
     ]
    }
   ],
   "source": [
    "# Observed contingency table proportions\n",
    "\n",
    "modesty_blend_prop = modesty_blend_freq / len(npi)\n",
    "print(modesty_blend_prop)"
   ]
  },
  {
   "cell_type": "code",
   "execution_count": 60,
   "id": "49b9d336",
   "metadata": {},
   "outputs": [
    {
     "name": "stdout",
     "output_type": "stream",
     "text": [
      "blend_in\n",
      "no     0.305787\n",
      "yes    0.694213\n",
      "dtype: float64\n",
      "\n",
      "modesty\n",
      "no     0.212293\n",
      "yes    0.787707\n",
      "dtype: float64\n"
     ]
    }
   ],
   "source": [
    "# Marginal proportions\n",
    "\n",
    "blend_marginals = modesty_blend_prop.sum(axis = 0)\n",
    "modesty_marginals = modesty_blend_prop.sum(axis = 1)\n",
    "print(blend_marginals)\n",
    "print()\n",
    "print(modesty_marginals)"
   ]
  },
  {
   "cell_type": "code",
   "execution_count": 57,
   "id": "cce33d32",
   "metadata": {},
   "outputs": [
    {
     "name": "stdout",
     "output_type": "stream",
     "text": [
      "[[ 723. 1643.]\n",
      " [2685. 6094.]]\n"
     ]
    }
   ],
   "source": [
    "# Expected contingency table\n",
    "\n",
    "chi2, pval, dof, expected = chi2_contingency(modesty_blend_freq)\n",
    "print(np.round(expected))"
   ]
  },
  {
   "cell_type": "code",
   "execution_count": 58,
   "id": "ce4a2164",
   "metadata": {},
   "outputs": [
    {
     "name": "stdout",
     "output_type": "stream",
     "text": [
      "841.5319523703167\n"
     ]
    }
   ],
   "source": [
    "print(chi2)"
   ]
  },
  {
   "cell_type": "markdown",
   "id": "d4218479",
   "metadata": {},
   "source": [
    "The Chi-Squared statistic for the 'Modesty' and 'Blending In' attributes strongly suggests an association between the two."
   ]
  },
  {
   "cell_type": "markdown",
   "id": "983c1623",
   "metadata": {},
   "source": [
    "### Now let's see if 'Blending In' and 'Authority' are associated."
   ]
  },
  {
   "cell_type": "code",
   "execution_count": 62,
   "id": "406acbfb",
   "metadata": {},
   "outputs": [
    {
     "name": "stdout",
     "output_type": "stream",
     "text": [
      "authority    no   yes\n",
      "blend_in             \n",
      "no         1310  2098\n",
      "yes        5015  2722\n"
     ]
    }
   ],
   "source": [
    "# Observed contingency table\n",
    "\n",
    "blend_authority_freq = pd.crosstab(npi['blend_in'], npi['authority'])\n",
    "print(blend_authority_freq)"
   ]
  },
  {
   "cell_type": "code",
   "execution_count": 64,
   "id": "be0417a2",
   "metadata": {},
   "outputs": [
    {
     "name": "stdout",
     "output_type": "stream",
     "text": [
      "authority        no       yes\n",
      "blend_in                     \n",
      "no         0.117541  0.188246\n",
      "yes        0.449978  0.244235\n"
     ]
    }
   ],
   "source": [
    "# Observed contingency table proportions\n",
    "\n",
    "blend_authority_prop = blend_authority_freq / len(npi)\n",
    "print(blend_authority_prop)"
   ]
  },
  {
   "cell_type": "code",
   "execution_count": 66,
   "id": "244de8e9",
   "metadata": {},
   "outputs": [
    {
     "name": "stdout",
     "output_type": "stream",
     "text": [
      "authority\n",
      "no     0.567519\n",
      "yes    0.432481\n",
      "dtype: float64\n",
      "\n",
      "blend_in\n",
      "no     0.305787\n",
      "yes    0.694213\n",
      "dtype: float64\n"
     ]
    }
   ],
   "source": [
    "# Marginal proportions\n",
    "\n",
    "authority_marginals = blend_authority_prop.sum(axis = 0)\n",
    "blend_marginals = blend_authority_prop.sum(axis = 1)\n",
    "print(authority_marginals)\n",
    "print()\n",
    "print(blend_marginals)"
   ]
  },
  {
   "cell_type": "code",
   "execution_count": 68,
   "id": "71669bf1",
   "metadata": {},
   "outputs": [
    {
     "name": "stdout",
     "output_type": "stream",
     "text": [
      "[[1934. 1474.]\n",
      " [4391. 3346.]]\n"
     ]
    }
   ],
   "source": [
    "# Expected contingency table\n",
    "\n",
    "chi2, pval, dof, expected = chi2_contingency(blend_authority_freq)\n",
    "print(np.round(expected))"
   ]
  },
  {
   "cell_type": "code",
   "execution_count": 69,
   "id": "5fd910bb",
   "metadata": {},
   "outputs": [
    {
     "name": "stdout",
     "output_type": "stream",
     "text": [
      "669.6989478223078\n"
     ]
    }
   ],
   "source": [
    "print(chi2)"
   ]
  },
  {
   "cell_type": "markdown",
   "id": "4df46e34",
   "metadata": {},
   "source": [
    "The Chi-Squared statistic for the 'Blending In' and 'Authority' attributes strongly suggests an association between the two."
   ]
  }
 ],
 "metadata": {
  "kernelspec": {
   "display_name": "Python 3 (ipykernel)",
   "language": "python",
   "name": "python3"
  },
  "language_info": {
   "codemirror_mode": {
    "name": "ipython",
    "version": 3
   },
   "file_extension": ".py",
   "mimetype": "text/x-python",
   "name": "python",
   "nbconvert_exporter": "python",
   "pygments_lexer": "ipython3",
   "version": "3.10.6"
  }
 },
 "nbformat": 4,
 "nbformat_minor": 5
}
