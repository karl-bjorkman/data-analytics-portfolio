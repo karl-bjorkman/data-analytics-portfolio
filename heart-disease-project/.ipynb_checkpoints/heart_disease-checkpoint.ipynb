{
 "cells": [
  {
   "cell_type": "code",
   "execution_count": 14,
   "id": "380f1291",
   "metadata": {},
   "outputs": [
    {
     "data": {
      "text/html": [
       "<div>\n",
       "<style scoped>\n",
       "    .dataframe tbody tr th:only-of-type {\n",
       "        vertical-align: middle;\n",
       "    }\n",
       "\n",
       "    .dataframe tbody tr th {\n",
       "        vertical-align: top;\n",
       "    }\n",
       "\n",
       "    .dataframe thead th {\n",
       "        text-align: right;\n",
       "    }\n",
       "</style>\n",
       "<table border=\"1\" class=\"dataframe\">\n",
       "  <thead>\n",
       "    <tr style=\"text-align: right;\">\n",
       "      <th></th>\n",
       "      <th>age</th>\n",
       "      <th>sex</th>\n",
       "      <th>trestbps</th>\n",
       "      <th>chol</th>\n",
       "      <th>cp</th>\n",
       "      <th>exang</th>\n",
       "      <th>fbs</th>\n",
       "      <th>thalach</th>\n",
       "      <th>heart_disease</th>\n",
       "    </tr>\n",
       "  </thead>\n",
       "  <tbody>\n",
       "    <tr>\n",
       "      <th>0</th>\n",
       "      <td>63</td>\n",
       "      <td>male</td>\n",
       "      <td>145</td>\n",
       "      <td>233</td>\n",
       "      <td>typical angina</td>\n",
       "      <td>0</td>\n",
       "      <td>1</td>\n",
       "      <td>150</td>\n",
       "      <td>absence</td>\n",
       "    </tr>\n",
       "    <tr>\n",
       "      <th>1</th>\n",
       "      <td>67</td>\n",
       "      <td>male</td>\n",
       "      <td>160</td>\n",
       "      <td>286</td>\n",
       "      <td>asymptomatic</td>\n",
       "      <td>1</td>\n",
       "      <td>0</td>\n",
       "      <td>108</td>\n",
       "      <td>presence</td>\n",
       "    </tr>\n",
       "    <tr>\n",
       "      <th>2</th>\n",
       "      <td>67</td>\n",
       "      <td>male</td>\n",
       "      <td>120</td>\n",
       "      <td>229</td>\n",
       "      <td>asymptomatic</td>\n",
       "      <td>1</td>\n",
       "      <td>0</td>\n",
       "      <td>129</td>\n",
       "      <td>presence</td>\n",
       "    </tr>\n",
       "    <tr>\n",
       "      <th>3</th>\n",
       "      <td>37</td>\n",
       "      <td>male</td>\n",
       "      <td>130</td>\n",
       "      <td>250</td>\n",
       "      <td>non-anginal pain</td>\n",
       "      <td>0</td>\n",
       "      <td>0</td>\n",
       "      <td>187</td>\n",
       "      <td>absence</td>\n",
       "    </tr>\n",
       "    <tr>\n",
       "      <th>4</th>\n",
       "      <td>41</td>\n",
       "      <td>female</td>\n",
       "      <td>130</td>\n",
       "      <td>204</td>\n",
       "      <td>atypical angina</td>\n",
       "      <td>0</td>\n",
       "      <td>0</td>\n",
       "      <td>172</td>\n",
       "      <td>absence</td>\n",
       "    </tr>\n",
       "  </tbody>\n",
       "</table>\n",
       "</div>"
      ],
      "text/plain": [
       "   age     sex  trestbps  chol                cp  exang  fbs  thalach  \\\n",
       "0   63    male       145   233    typical angina      0    1      150   \n",
       "1   67    male       160   286      asymptomatic      1    0      108   \n",
       "2   67    male       120   229      asymptomatic      1    0      129   \n",
       "3   37    male       130   250  non-anginal pain      0    0      187   \n",
       "4   41  female       130   204   atypical angina      0    0      172   \n",
       "\n",
       "  heart_disease  \n",
       "0       absence  \n",
       "1      presence  \n",
       "2      presence  \n",
       "3       absence  \n",
       "4       absence  "
      ]
     },
     "execution_count": 14,
     "metadata": {},
     "output_type": "execute_result"
    }
   ],
   "source": [
    "import pandas as pd\n",
    "import numpy as np\n",
    "from scipy.stats import ttest_1samp\n",
    "from scipy.stats import binom_test\n",
    "\n",
    "# Load heart disease data\n",
    "heart = pd.read_csv('heart_disease.csv')\n",
    "\n",
    "yes_hd = heart[heart['heart_disease'] == 'presence']\n",
    "no_hd = heart[heart['heart_disease'] == 'absence']\n",
    "\n",
    "heart.head()"
   ]
  },
  {
   "cell_type": "code",
   "execution_count": 15,
   "id": "9da757c8",
   "metadata": {},
   "outputs": [
    {
     "name": "stdout",
     "output_type": "stream",
     "text": [
      "251.4748201438849\n"
     ]
    }
   ],
   "source": [
    "# Get cholesterol levels for heart disease (HD) patients\n",
    "chol_hd = yes_hd.chol\n",
    "\n",
    "# Calculate mean cholesterol level for HD patients\n",
    "chol_hd_mean = np.mean(chol_hd)\n",
    "\n",
    "print(chol_hd_mean)"
   ]
  },
  {
   "cell_type": "code",
   "execution_count": 16,
   "id": "cfedaff9",
   "metadata": {},
   "outputs": [
    {
     "name": "stdout",
     "output_type": "stream",
     "text": [
      "0.0035411033905155703\n"
     ]
    }
   ],
   "source": [
    "# Compare this average to the cut-off for high cholesterol\n",
    "tstat, pval = ttest_1samp(a = chol_hd, popmean = 240, alternative = 'greater')\n",
    "\n",
    "print(pval)"
   ]
  },
  {
   "cell_type": "markdown",
   "id": "d9117da0",
   "metadata": {},
   "source": [
    "It would appear that HD patients have an average cholesterol level that that is significantly greater than 240 mg/dl. (Used a significance threshold of 0.05)"
   ]
  },
  {
   "cell_type": "code",
   "execution_count": 17,
   "id": "f2925c5f",
   "metadata": {},
   "outputs": [
    {
     "name": "stdout",
     "output_type": "stream",
     "text": [
      "242.640243902439\n"
     ]
    }
   ],
   "source": [
    "# Get cholesterol levels for patients without HD\n",
    "chol_nohd = no_hd.chol\n",
    "\n",
    "# Calculate mean cholesterol level for non-HD patients\n",
    "chol_nohd_mean = np.mean(chol_nohd)\n",
    "\n",
    "print(chol_nohd_mean)"
   ]
  },
  {
   "cell_type": "code",
   "execution_count": 18,
   "id": "7eacfa97",
   "metadata": {},
   "outputs": [
    {
     "name": "stdout",
     "output_type": "stream",
     "text": [
      "0.26397120232220506\n"
     ]
    }
   ],
   "source": [
    "# Compare this average to the cut-off for high cholesterol\n",
    "tstat, pval = ttest_1samp(a = chol_nohd, popmean = 240, alternative = 'greater')\n",
    "\n",
    "print(pval)"
   ]
  },
  {
   "cell_type": "markdown",
   "id": "3684c584",
   "metadata": {},
   "source": [
    "It would appear that non-HD patients have an average cholesterol level that is NOT significantly greater than 240 mg/ld."
   ]
  },
  {
   "cell_type": "code",
   "execution_count": 19,
   "id": "64120d71",
   "metadata": {},
   "outputs": [
    {
     "name": "stdout",
     "output_type": "stream",
     "text": [
      "303\n"
     ]
    }
   ],
   "source": [
    "# Calculate total number of patients\n",
    "num_patients = len(heart)\n",
    "\n",
    "print(num_patients)"
   ]
  },
  {
   "cell_type": "code",
   "execution_count": 20,
   "id": "f766ffa7",
   "metadata": {},
   "outputs": [
    {
     "name": "stdout",
     "output_type": "stream",
     "text": [
      "45\n"
     ]
    }
   ],
   "source": [
    "# Calculate number of patients with FBS > 120\n",
    "num_highfbs_patients = np.sum(heart.fbs)\n",
    "\n",
    "print(num_highfbs_patients)"
   ]
  },
  {
   "cell_type": "code",
   "execution_count": 21,
   "id": "51fd73f8",
   "metadata": {},
   "outputs": [
    {
     "name": "stdout",
     "output_type": "stream",
     "text": [
      "24.240000000000002\n"
     ]
    }
   ],
   "source": [
    "# Calculate 8% of of sample size\n",
    "\n",
    "print(0.08 * num_patients)"
   ]
  },
  {
   "cell_type": "code",
   "execution_count": 22,
   "id": "97931197",
   "metadata": {},
   "outputs": [
    {
     "name": "stdout",
     "output_type": "stream",
     "text": [
      "4.6894719514488777e-05\n"
     ]
    }
   ],
   "source": [
    "# Run binomial test\n",
    "pval = binom_test(x = num_highfbs_patients, n = num_patients, p = 0.08, alternative = 'greater')\n",
    "\n",
    "print(pval)"
   ]
  },
  {
   "cell_type": "markdown",
   "id": "c4bc0c8e",
   "metadata": {},
   "source": [
    "It would appear that this sample likely comes from a population where more than 8% of people have FBS > 120 mg/dl."
   ]
  }
 ],
 "metadata": {
  "kernelspec": {
   "display_name": "Python 3 (ipykernel)",
   "language": "python",
   "name": "python3"
  },
  "language_info": {
   "codemirror_mode": {
    "name": "ipython",
    "version": 3
   },
   "file_extension": ".py",
   "mimetype": "text/x-python",
   "name": "python",
   "nbconvert_exporter": "python",
   "pygments_lexer": "ipython3",
   "version": "3.10.6"
  }
 },
 "nbformat": 4,
 "nbformat_minor": 5
}
